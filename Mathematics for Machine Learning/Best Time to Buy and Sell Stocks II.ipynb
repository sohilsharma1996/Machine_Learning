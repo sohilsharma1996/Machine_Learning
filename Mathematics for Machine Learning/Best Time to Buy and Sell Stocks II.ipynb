{
 "cells": [
  {
   "cell_type": "markdown",
   "id": "f7540cb4",
   "metadata": {},
   "source": [
    "# Problem Description"
   ]
  },
  {
   "cell_type": "markdown",
   "id": "302c444a",
   "metadata": {},
   "source": [
    "Say you have an array, A, for which the ith element is the price of a given stock on day i.\n",
    "\n",
    "Design an algorithm to find the maximum profit.\n",
    "\n",
    "You may complete as many transactions as you like (i.e., buy one and sell one share of the stock multiple times).\n",
    "However, you may not engage in multiple transactions at the same time (ie, you must sell the stock before you buy again)."
   ]
  },
  {
   "cell_type": "markdown",
   "id": "5cd80bdd",
   "metadata": {},
   "source": [
    "# Problem Constraints"
   ]
  },
  {
   "cell_type": "raw",
   "id": "eed1b1e4",
   "metadata": {},
   "source": [
    "0 <= len(A) <= 1e5\n",
    "1 <= A[i] <= 1e7"
   ]
  },
  {
   "cell_type": "markdown",
   "id": "dfaf7343",
   "metadata": {},
   "source": [
    "# Input Format"
   ]
  },
  {
   "cell_type": "markdown",
   "id": "0e94de65",
   "metadata": {},
   "source": [
    "The first and only argument is an array of integers, A."
   ]
  },
  {
   "cell_type": "markdown",
   "id": "88336f76",
   "metadata": {},
   "source": [
    "# Output Format"
   ]
  },
  {
   "cell_type": "markdown",
   "id": "d0dbf9b0",
   "metadata": {},
   "source": [
    "Return an integer, representing the maximum possible profit."
   ]
  },
  {
   "cell_type": "markdown",
   "id": "7c34b97b",
   "metadata": {},
   "source": [
    "# Examples"
   ]
  },
  {
   "cell_type": "raw",
   "id": "9e23dd10",
   "metadata": {},
   "source": [
    "A = [1, 2, 3]\n",
    "Output : 2\n",
    "    \n",
    "Example Explanation :\n",
    "    => Buy a stock on day 0.\n",
    "    => Sell the stock on day 1. (Profit +1)\n",
    "    => Buy a stock on day 1.\n",
    "    => Sell the stock on day 2. (Profit +1)\n",
    "\n",
    "Overall Profit = 2"
   ]
  },
  {
   "cell_type": "raw",
   "id": "33403848",
   "metadata": {},
   "source": [
    "A = [5, 2, 10]\n",
    "Output : 8\n",
    "\n",
    "Example Explanation : \n",
    "    => Buy a stock on day 1.\n",
    "    => Sell the stock on on day 2. (Profit +8)\n",
    "\n",
    "Overall profit = 8"
   ]
  },
  {
   "cell_type": "markdown",
   "id": "48351f03",
   "metadata": {},
   "source": []
  },
  {
   "cell_type": "markdown",
   "id": "96a32263",
   "metadata": {},
   "source": [
    "# Solution"
   ]
  },
  {
   "cell_type": "markdown",
   "id": "96b867a4",
   "metadata": {},
   "source": [
    "In this Question, to find the Maximum Profit, we need to consider all the small Profits during every consecutive Buying-Selling Stock activity.\n",
    "\n",
    "Here , we will be considering our Solution from Index '1' onwards, since we have no reference for Index '0' , to decide whether the value at Index '0' is a Profit / Loss.\n",
    "For all other Indices, we can refer the previous Indices, and compare the results accordingly.\n",
    "\n"
   ]
  },
  {
   "cell_type": "code",
   "execution_count": 1,
   "id": "14e50c00",
   "metadata": {},
   "outputs": [],
   "source": [
    "class Solution:\n",
    "    # @param A : tuple of integers\n",
    "    # @return an integer\n",
    "    def maxProfit(self, A):\n",
    "        profit = 0\n",
    "        for i in range(1,len(A)):\n",
    "            if A[i] > A[i-1]: \n",
    "                profit += (A[i] - A[i-1])\n",
    "        return profit"
   ]
  }
 ],
 "metadata": {
  "kernelspec": {
   "display_name": "Python 3 (ipykernel)",
   "language": "python",
   "name": "python3"
  },
  "language_info": {
   "codemirror_mode": {
    "name": "ipython",
    "version": 3
   },
   "file_extension": ".py",
   "mimetype": "text/x-python",
   "name": "python",
   "nbconvert_exporter": "python",
   "pygments_lexer": "ipython3",
   "version": "3.9.13"
  }
 },
 "nbformat": 4,
 "nbformat_minor": 5
}
